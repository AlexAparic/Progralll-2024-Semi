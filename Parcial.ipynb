{
  "nbformat": 4,
  "nbformat_minor": 0,
  "metadata": {
    "colab": {
      "provenance": [],
      "authorship_tag": "ABX9TyOjB96DE3CNUzcE7hvtt3EU",
      "include_colab_link": true
    },
    "kernelspec": {
      "name": "python3",
      "display_name": "Python 3"
    },
    "language_info": {
      "name": "python"
    }
  },
  "cells": [
    {
      "cell_type": "markdown",
      "metadata": {
        "id": "view-in-github",
        "colab_type": "text"
      },
      "source": [
        "<a href=\"https://colab.research.google.com/github/AlexAparic/Progralll-2024-Semi/blob/main/Parcial.ipynb\" target=\"_parent\"><img src=\"https://colab.research.google.com/assets/colab-badge.svg\" alt=\"Open In Colab\"/></a>"
      ]
    },
    {
      "cell_type": "markdown",
      "source": [
        "Desarrolle un algoritmo en Python que calcule el IMPUESTO A LAS\n",
        "ACTIVIDADES ECONOMICAS de acuerdo con la siguiente tabla. El monto\n",
        "de la actividad económica debe ser introducido por el usuario"
      ],
      "metadata": {
        "id": "TXT-w0UcKOE4"
      }
    },
    {
      "cell_type": "code",
      "execution_count": 17,
      "metadata": {
        "colab": {
          "base_uri": "https://localhost:8080/"
        },
        "id": "KmT_lvwvJV40",
        "outputId": "fd1b255b-b7b5-49c0-cf5c-5369f2888167"
      },
      "outputs": [
        {
          "output_type": "stream",
          "name": "stdout",
          "text": [
            "Ingrese el monto de la actividad económica: 2000\n",
            "El impuesto calculado es: $6.00\n"
          ]
        }
      ],
      "source": [
        "def calcular_impuesto(monto):\n",
        "\n",
        "    rangos = [\n",
        "        (0.01, 500, 1.5, 0),\n",
        "        (500.01, 1000, 1.5, 3),\n",
        "        (1000.01, 2000, 3, 3),\n",
        "        (2000.01, 6000, 6, 3),\n",
        "        (6000.01, 10000, 10, 2),\n",
        "        (10000.01, 18000, 20, 2),\n",
        "        (18000.01, 30000, 2, 39),\n",
        "        (30000.01, 60000, 63, 1.3),\n",
        "        (60000.01, 100000, 93, 0.8),\n",
        "        (100000.01, 200000, 125, 0.7),\n",
        "        (200000.01, 300000, 195, 0.6),\n",
        "        (300000.01, 400000, 255, 0.45),\n",
        "        (400000.01, 500000, 300, 0.4),\n",
        "        (500000.01, 1000000, 340, 0.3),\n",
        "        (1000000.01, 999999999, 490, 0.18),\n",
        "    ]\n",
        "\n",
        "\n",
        "    precio = 0\n",
        "    adicional = 0\n",
        "    desde = 0\n",
        "\n",
        "\n",
        "    for d, hasta, precio_tabla, adicional_tabla in rangos:\n",
        "        if d <= monto <= hasta:\n",
        "            precio = precio_tabla\n",
        "            adicional = adicional_tabla\n",
        "            desde = d\n",
        "            break\n",
        "\n",
        "\n",
        "    if precio > 0:\n",
        "        valor_fijo = (monto - desde) / 1000\n",
        "        impuesto = valor_fijo * precio + adicional\n",
        "        impuesto = round(impuesto, 2)\n",
        "        return impuesto\n",
        "    else:\n",
        "        return None\n",
        "\n",
        "\n",
        "monto = float(input(\"Ingrese el monto de la actividad económica: \"))\n",
        "impuesto = calcular_impuesto(monto)\n",
        "\n",
        "if impuesto is not None:\n",
        "    print(f\"El impuesto calculado es: ${impuesto:.2f}\")\n",
        "else:\n",
        "    print(\"Monto fuera de los rangos especificados.\")\n"
      ]
    },
    {
      "cell_type": "markdown",
      "source": [],
      "metadata": {
        "id": "wYnYIG1fQqzy"
      }
    },
    {
      "cell_type": "code",
      "source": [
        "def calcular_area(de, a, cantidad):\n",
        "   valores = [1, 10000, 7000, 2722500, 302500, 16]\n",
        "   return valores[a] / valores[de] * cantidad\n",
        "\n",
        "def menu_area():\n",
        "   print(\"Bienvenidos a Conversor \")\n",
        "   print(\"0. Salir\")\n",
        "   print(\"1. Manzana\")\n",
        "   print(\"2. Vara Cuadrada\")\n",
        "   print(\"3. Metro Cuadrado\")\n",
        "   print(\"4. Pie Cuadrado\")\n",
        "   print(\"5. Yarda Cuadrada\")\n",
        "   print(\"6. Tareas\")\n",
        "\n",
        "\n",
        "   de = int(input(\"De: \")) -1\n",
        "\n",
        "   print(\"\")\n",
        "   print(\"1. Manzana\")\n",
        "   print(\"2. Vara Cuadrada\")\n",
        "   print(\"3. Metro Cuadrado\")\n",
        "   print(\"4. Pie Cuadrado\")\n",
        "   print(\"5. Yarda Cuadrada\")\n",
        "   print(\"6. Tareas\")\n",
        "\n",
        "   a = int(input(\"A: \"))-1\n",
        "\n",
        "   cantidad = float(input(\"Cantidad: \"))\n",
        "\n",
        "   resultado = calcular_area(de, a, cantidad)\n",
        "\n",
        "   print(\"Resultado: \", resultado)\n",
        "\n",
        "   return f\"El resultado de la conversión es: {resultado}\"\n",
        "\n",
        "\n",
        "def menu_principal():\n",
        "   print(\"1. Area\")\n",
        "   print(\"0. Salir\")\n",
        "\n",
        "   opcion = int(input(\"Opcion: \"))\n",
        "\n",
        "   while True:\n",
        "    if opcion == 1:\n",
        "      print(menu_area())\n",
        "      break\n",
        "\n",
        "menu_principal()"
      ],
      "metadata": {
        "id": "GJ7ZdHH5SDbP"
      },
      "execution_count": null,
      "outputs": []
    }
  ]
}