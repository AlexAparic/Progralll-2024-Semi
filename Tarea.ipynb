{
  "nbformat": 4,
  "nbformat_minor": 0,
  "metadata": {
    "colab": {
      "provenance": [],
      "authorship_tag": "ABX9TyOFoJA4UwEHvz3FttVuuTVt",
      "include_colab_link": true
    },
    "kernelspec": {
      "name": "python3",
      "display_name": "Python 3"
    },
    "language_info": {
      "name": "python"
    }
  },
  "cells": [
    {
      "cell_type": "markdown",
      "metadata": {
        "id": "view-in-github",
        "colab_type": "text"
      },
      "source": [
        "<a href=\"https://colab.research.google.com/github/AlexAparic/Progralll-2024-Semi/blob/main/Tarea.ipynb\" target=\"_parent\"><img src=\"https://colab.research.google.com/assets/colab-badge.svg\" alt=\"Open In Colab\"/></a>"
      ]
    },
    {
      "cell_type": "markdown",
      "source": [
        "Ejercicio 1\n"
      ],
      "metadata": {
        "id": "o_wJFjt9dbuG"
      }
    },
    {
      "cell_type": "code",
      "source": [
        "def calcular_deducciones(sueldo):\n",
        "    isss = sueldo * 0.03\n",
        "    afp = sueldo * 0.0625\n",
        "    restarAFP = sueldo - afp\n",
        "    restar_isss = sueldo - (afp + isss)\n",
        "    isss2 = 0\n",
        "\n",
        "    if restarAFP >= 0.01 and restarAFP <= 487.60:\n",
        "        isr = 0\n",
        "    elif restarAFP >= 487.61 and restarAFP <= 642.85:\n",
        "        isr = (restarAFP - 487.60) * 0.1 + 17.48\n",
        "    elif restarAFP >= 642.86 and restarAFP <= 915.81:\n",
        "        isr = (restarAFP - 642.85) * 0.1 + 32.71\n",
        "    elif restarAFP >= 915.82 and restarAFP <= 2058.67:\n",
        "        isr = (restarAFP - 915.81) * 0.2 + 60\n",
        "    elif restarAFP >= 2058.68:\n",
        "        isr = (restarAFP - 2058.67) * 0.3 + 288.57\n",
        "\n",
        "    if restar_isss >= 0.01 and restar_isss <= 472.01:\n",
        "        isss2 = 0\n",
        "    elif restar_isss >= 472.01 and restar_isss <= 895.24:\n",
        "        isss2 = (restar_isss - 472.01) * 0.1 + 17.67\n",
        "    elif restar_isss >= 895.25 and restar_isss <= 2038.10:\n",
        "        isss2 = (restar_isss - 895.24) * 0.2 + 60\n",
        "    elif restar_isss >= 2038.11:\n",
        "        isss2 = (restar_isss - 2038.10) * 0.3 + 288.57\n",
        "\n",
        "    total_deducciones = isss + afp + isr + isss2\n",
        "    sueldo_neto = sueldo - total_deducciones\n",
        "\n",
        "    return {\n",
        "        'ISSS': isss,\n",
        "        'AFP': afp,\n",
        "        'ISR': isr,\n",
        "        'Bienestar': isss2,\n",
        "        'Total Deducciones': total_deducciones,\n",
        "        'Sueldo Neto': sueldo_neto\n",
        "    }\n",
        "\n",
        "sueldo = float(input(\"Ingresa tu sueldo: \"))\n",
        "\n",
        "resultados = calcular_deducciones(sueldo)\n",
        "\n",
        "print(f\"ISSS: {resultados['ISSS']:.2f}\")\n",
        "print(f\"AFP: {resultados['AFP']:.2f}\")\n",
        "print(f\"ISR: {resultados['ISR']:.2f}\")\n",
        "print(f\"Bienestar: {resultados['Bienestar']:.2f}\")\n",
        "print(f\"Total Deducciones: {resultados['Total Deducciones']:.2f}\")\n",
        "print(f\"Sueldo Neto: {resultados['Sueldo Neto']:.2f}\")"
      ],
      "metadata": {
        "id": "1gzp885udYuY",
        "colab": {
          "base_uri": "https://localhost:8080/"
        },
        "outputId": "044e53c1-cc0b-444e-e606-f58d6ea42144"
      },
      "execution_count": null,
      "outputs": [
        {
          "output_type": "stream",
          "name": "stdout",
          "text": [
            "Ingresa tu sueldo: 800\n",
            "ISSS: 24.00\n",
            "AFP: 50.00\n",
            "ISR: 43.42\n",
            "Bienestar: 43.07\n",
            "Total Deducciones: 160.49\n",
            "Sueldo Neto: 639.51\n"
          ]
        }
      ]
    },
    {
      "cell_type": "markdown",
      "source": [
        "consumo de agua"
      ],
      "metadata": {
        "id": "YNCjg9jjdnBJ"
      }
    },
    {
      "cell_type": "code",
      "source": [
        "def calcular_valor_a_pagar(consumo):\n",
        "\n",
        "    cuota_fija = 6.00\n",
        "\n",
        "    if consumo <= 18:\n",
        "        valor_a_pagar = cuota_fija\n",
        "    elif consumo <= 28:\n",
        "        exceso = consumo - 18\n",
        "        valor_a_pagar = cuota_fija + (exceso * 0.45)\n",
        "    else:\n",
        "        exceso_1 = 28 - 18\n",
        "        exceso_2 = consumo - 28\n",
        "        valor_a_pagar = cuota_fija + (exceso_1 * 0.45) + (exceso_2 * 0.65)\n",
        "\n",
        "    return valor_a_pagar\n",
        "\n",
        "try:\n",
        "    consumo = int(input(\"Ingrese el consumo de agua en metros cúbicos: \"))\n",
        "\n",
        "    valor_a_pagar = calcular_valor_a_pagar(consumo)\n",
        "\n",
        "    print(f\"Valor a pagar por {consumo} metros cúbicos consumidos: ${valor_a_pagar:.2f}\")\n",
        "\n",
        "except ValueError:\n",
        "    print(\"Por favor, ingrese un valor numérico válido.\")"
      ],
      "metadata": {
        "id": "ANY6qAWNdpYu",
        "colab": {
          "base_uri": "https://localhost:8080/"
        },
        "outputId": "e268a2e4-c929-4018-c8c8-e0f9f7bcafc1"
      },
      "execution_count": null,
      "outputs": [
        {
          "output_type": "stream",
          "name": "stdout",
          "text": [
            "Ingrese el consumo de agua en metros cúbicos: 38\n",
            "Valor a pagar por 38 metros cúbicos consumidos: $17.00\n"
          ]
        }
      ]
    },
    {
      "cell_type": "markdown",
      "source": [
        "conversor de monedas\n",
        "\n"
      ],
      "metadata": {
        "id": "VjYtnKCuqnu0"
      }
    },
    {
      "cell_type": "code",
      "execution_count": null,
      "metadata": {
        "id": "XpT48p7QqiKo",
        "colab": {
          "base_uri": "https://localhost:8080/"
        },
        "outputId": "f54e6584-fe1b-404b-9467-2a992fafe00c"
      },
      "outputs": [
        {
          "output_type": "stream",
          "name": "stdout",
          "text": [
            "Selecciona la su moneda actual:\n",
            "1. Dolar\n",
            "2. Euro\n",
            "3. Colon SV\n",
            "4. Quetzal\n",
            "5. Peso Mexicano\n",
            "6. Libra Esterlina\n",
            "7. Colon de Costa Rica\n",
            "8. Yen Japonés\n",
            "9. Dólar Canadiense\n",
            "10. Real Brasileño\n",
            "Seleccione la moneda a convertir: 1\n",
            "Selecciona la moneda destino:\n",
            "1. USD\n",
            "2. EUR\n",
            "3. SVC\n",
            "4. GTQ\n",
            "5. MXN\n",
            "6. GBP\n",
            "7. CRC\n",
            "8. JPY\n",
            "9. CAD\n",
            "10. BRL\n",
            "Moneda destino (1-10): 4\n",
            "Introduce la cantidad a convertir: 1\n",
            "1.0 USD es igual a 7.73 GTQ\n"
          ]
        }
      ],
      "source": [
        "import numpy as np\n",
        "\n",
        "monedas = [\"USD\", \"EUR\", \"SVC\", \"GTQ\", \"MXN\", \"GBP\", \"CRC\", \"JPY\", \"CAD\", \"BRL\"]\n",
        "\n",
        "import numpy as np\n",
        "\n",
        "import numpy as np\n",
        "\n",
        "valorMoneda = np.array([\n",
        "    [1.00, 0.92, 8.75, 7.73, 18.75, 0.78, 518.61, 145.67, 1.35, 5.48],  # USD\n",
        "    [1.09, 1.00, 9.55, 8.45, 20.62, 0.85, 578.60, 158.12, 1.47, 5.72],  # EUR\n",
        "    [0.11, 0.10, 1.00, 0.89, 2.16, 0.089, 60.55, 16.55, 0.15, 0.60],    # SVC\n",
        "    [0.13, 0.12, 1.13, 1.00, 2.44, 0.10, 68.35, 18.55, 0.17, 0.68],     # GTQ\n",
        "    [0.053, 0.048, 0.46, 0.41, 1.00, 0.041, 27.83, 7.55, 0.07, 0.28],   # MXN\n",
        "    [1.28, 1.17, 11.19, 9.92, 24.22, 1.00, 675.87, 183.12, 1.70, 6.62], # GBP\n",
        "    [0.0019, 0.0017, 0.017, 0.015, 0.036, 0.0015, 1.00, 0.27, 0.0025, 0.0095], # CRC\n",
        "    [0.0069, 0.0063, 0.061, 0.054, 0.13, 0.0055, 3.70, 1.00, 0.009, 0.035],    # JPY\n",
        "    [0.74, 0.68, 6.80, 6.03, 14.70, 0.61, 410.00, 110.00, 1.00, 3.90],         # CAD\n",
        "    [0.19, 0.17, 1.70, 1.51, 3.68, 0.15, 102.50, 27.50, 0.26, 1.00]            # BRL\n",
        "])\n",
        "\n",
        "\n",
        "\n",
        "def menu():\n",
        "    print(\"Selecciona la su moneda actual:\")\n",
        "    print(\"1. Dolar\")\n",
        "    print(\"2. Euro\")\n",
        "    print(\"3. Colon SV\")\n",
        "    print(\"4. Quetzal\")\n",
        "    print(\"5. Peso Mexicano\")\n",
        "    print(\"6. Libra Esterlina\")\n",
        "    print(\"7. Colon de Costa Rica\")\n",
        "    print(\"8. Yen Japonés\")\n",
        "    print(\"9. Dólar Canadiense\")\n",
        "    print(\"10. Real Brasileño\")\n",
        "\n",
        "    MonedaActual = int(input(\"Seleccione la moneda a convertir: \"))\n",
        "\n",
        "    if MonedaActual == 1:\n",
        "        actualDivisa = 0\n",
        "    elif MonedaActual == 2:\n",
        "        actualDivisa = 1\n",
        "    elif MonedaActual == 3:\n",
        "        actualDivisa = 2\n",
        "    elif MonedaActual == 4:\n",
        "        actualDivisa = 3\n",
        "    elif MonedaActual == 5:\n",
        "        actualDivisa = 4\n",
        "    elif MonedaActual == 6:\n",
        "        actualDivisa = 5\n",
        "    elif MonedaActual == 7:\n",
        "        actualDivisa = 6\n",
        "    elif MonedaActual == 8:\n",
        "        actualDivisa = 7\n",
        "    elif MonedaActual == 9:\n",
        "        actualDivisa = 8\n",
        "    elif MonedaActual == 10:\n",
        "        actualDivisa = 9\n",
        "    else:\n",
        "        print(\"Opción no válida. Seleccionando USD por defecto.\")\n",
        "        actualDivisa = 0\n",
        "\n",
        "    print(\"Selecciona la moneda destino:\")\n",
        "    print(\"1. USD\")\n",
        "    print(\"2. EUR\")\n",
        "    print(\"3. SVC\")\n",
        "    print(\"4. GTQ\")\n",
        "    print(\"5. MXN\")\n",
        "    print(\"6. GBP\")\n",
        "    print(\"7. CRC\")\n",
        "    print(\"8. JPY\")\n",
        "    print(\"9. CAD\")\n",
        "    print(\"10. BRL\")\n",
        "\n",
        "    opcion_destino = int(input(\"Moneda destino (1-10): \"))\n",
        "\n",
        "    if opcion_destino == 1:\n",
        "        destino = 0\n",
        "    elif opcion_destino == 2:\n",
        "        destino = 1\n",
        "    elif opcion_destino == 3:\n",
        "        destino = 2\n",
        "    elif opcion_destino == 4:\n",
        "        destino = 3\n",
        "    elif opcion_destino == 5:\n",
        "        destino = 4\n",
        "    elif opcion_destino == 6:\n",
        "        destino = 5\n",
        "    elif opcion_destino == 7:\n",
        "        destino = 6\n",
        "    elif opcion_destino == 8:\n",
        "        destino = 7\n",
        "    elif opcion_destino == 9:\n",
        "        destino = 8\n",
        "    elif opcion_destino == 10:\n",
        "        destino = 9\n",
        "    else:\n",
        "        print(\"Opción no válida. Seleccionando USD por defecto.\")\n",
        "        destino = 0\n",
        "\n",
        "    cantidad = float(input(\"Introduce la cantidad a convertir: \"))\n",
        "\n",
        "    return actualDivisa, destino, cantidad\n",
        "\n",
        "def convertir_monedas(matriz, actualDivisa, destino, cantidad):\n",
        "    tasa = matriz[actualDivisa][destino]\n",
        "    resultado = cantidad * tasa\n",
        "    return resultado\n",
        "\n",
        "actualDivisa, destino, cantidad = menu()\n",
        "resultado = convertir_monedas(valorMoneda, actualDivisa, destino, cantidad)\n",
        "print(f\"{cantidad} {monedas[actualDivisa]} es igual a {resultado:.2f} {monedas[destino]}\")\n",
        "\n"
      ]
    },
    {
      "cell_type": "code",
      "source": [
        "import numpy as np\n",
        "\n",
        "unidades_longitud = [\"metros\", \"kilometros\", \"centimetros\", \"milimetros\", \"pulgadas\", \"pies\", \"yardas\", \"millas\", \"nauticas\", \"micrometros\"]\n",
        "\n",
        "valorLongitud = np.array([\n",
        "    [1, 0.001, 100, 1000, 39.3701, 3.28084, 1.09361, 0.000621371, 0.000539957, 1e6],  # metros\n",
        "    [1000, 1, 100000, 1e6, 39370.1, 3280.84, 1093.61, 0.621371, 0.539957, 1e9],  # kilometros\n",
        "    [0.01, 1e-5, 1, 10, 0.393701, 0.0328084, 0.0109361, 6.2137e-6, 5.39957e-6, 10000],  # centimetros\n",
        "    [0.001, 1e-6, 0.1, 1, 0.0393701, 0.00328084, 0.00109361, 6.2137e-7, 5.39957e-7, 1000],  # milimetros\n",
        "    [0.0254, 2.54e-5, 2.54, 25.4, 1, 0.0833333, 0.0277778, 1.5783e-5, 1.3715e-5, 25400],  # pulgadas\n",
        "    [0.3048, 0.0003048, 30.48, 304.8, 12, 1, 0.333333, 0.000189394, 0.000164579, 304800],  # pies\n",
        "    [0.9144, 0.0009144, 91.44, 914.4, 36, 3, 1, 0.000568182, 0.000493737, 914400],  # yardas\n",
        "    [1609.34, 1.60934, 160934, 1.609e6, 63360, 5280, 1760, 1, 0.868976, 1.609e9],  # millas\n",
        "    [1852, 1.852, 185200, 1.852e6, 72913.4, 6076.12, 2025.37, 1.15078, 1, 1.852e9],  # nauticas\n",
        "    [1e-6, 1e-9, 1e-4, 0.001, 3.93701e-5, 3.28084e-6, 1.09361e-6, 6.2137e-10, 5.39957e-10, 1]  # micrometros\n",
        "])\n",
        "\n",
        "def menu_longitud():\n",
        "    print(\"Selecciona la unidad de longitud actual:\")\n",
        "    for i, unidad in enumerate(unidades_longitud):\n",
        "        print(f\"{i+1}. {unidad}\")\n",
        "\n",
        "    unidad_actual = int(input(\"Seleccione la unidad a convertir: \")) - 1\n",
        "\n",
        "    print(\"Selecciona la unidad de longitud destino:\")\n",
        "    for i, unidad in enumerate(unidades_longitud):\n",
        "        print(f\"{i+1}. {unidad}\")\n",
        "\n",
        "    unidad_destino = int(input(\"Unidad destino (1-10): \")) - 1\n",
        "\n",
        "    cantidad = float(input(\"Introduce la cantidad a convertir: \"))\n",
        "\n",
        "    return unidad_actual, unidad_destino, cantidad\n",
        "\n",
        "def convertir_longitud(matriz, unidad_actual, unidad_destino, cantidad):\n",
        "    tasa = matriz[unidad_actual][unidad_destino]\n",
        "    resultado = cantidad * tasa\n",
        "    return resultado\n",
        "\n",
        "unidad_actual, unidad_destino, cantidad = menu_longitud()\n",
        "resultado = convertir_longitud(valorLongitud, unidad_actual, unidad_destino, cantidad)\n",
        "print(f\"{cantidad} {unidades_longitud[unidad_actual]} es igual a {resultado:.2f} {unidades_longitud[unidad_destino]}\")\n"
      ],
      "metadata": {
        "colab": {
          "base_uri": "https://localhost:8080/"
        },
        "id": "ePwRgaxpfjVP",
        "outputId": "2ef090e0-a4f6-4dd8-e493-2bfd23c5ce4c"
      },
      "execution_count": null,
      "outputs": [
        {
          "output_type": "stream",
          "name": "stdout",
          "text": [
            "Selecciona la unidad de longitud actual:\n",
            "1. metros\n",
            "2. kilometros\n",
            "3. centimetros\n",
            "4. milimetros\n",
            "5. pulgadas\n",
            "6. pies\n",
            "7. yardas\n",
            "8. millas\n",
            "9. nauticas\n",
            "10. micrometros\n",
            "Seleccione la unidad a convertir: 1\n",
            "Selecciona la unidad de longitud destino:\n",
            "1. metros\n",
            "2. kilometros\n",
            "3. centimetros\n",
            "4. milimetros\n",
            "5. pulgadas\n",
            "6. pies\n",
            "7. yardas\n",
            "8. millas\n",
            "9. nauticas\n",
            "10. micrometros\n",
            "Unidad destino (1-10): 2\n",
            "Introduce la cantidad a convertir: 1000\n",
            "1000.0 metros es igual a 1.00 kilometros\n"
          ]
        }
      ]
    },
    {
      "cell_type": "markdown",
      "source": [
        "masa"
      ],
      "metadata": {
        "id": "cz69PcpyhS5d"
      }
    },
    {
      "cell_type": "code",
      "source": [
        "import numpy as np\n",
        "\n",
        "unidades_masa = [\"kilogramos\", \"gramos\", \"miligramos\", \"libras\", \"onzas\", \"toneladas\", \"microgramos\", \"quintales\", \"piedras\", \"toneladas métricas\"]\n",
        "\n",
        "valorMasa = np.array([\n",
        "    [1, 1000, 1e6, 2.20462, 35.274, 0.001, 1e9, 0.01, 0.157473, 0.00110231],  # kilogramos\n",
        "    [0.001, 1, 1000, 0.00220462, 0.035274, 1e-6, 1e6, 1e-5, 0.000157473, 1.10231e-6],  # gramos\n",
        "    [1e-6, 0.001, 1, 2.20462e-6, 3.5274e-5, 1e-9, 1000, 1e-8, 1.57473e-7, 1.10231e-9],  # miligramos\n",
        "    [0.453592, 453.592, 453592, 1, 16, 0.000453592, 4.536e8, 0.00453592, 0.0714286, 0.0005],  # libras\n",
        "    [0.0283495, 28.3495, 28349.5, 0.0625, 1, 2.835e-5, 2.835e7, 0.000283495, 0.00446429, 3.125e-5],  # onzas\n",
        "    [1000, 1e6, 1e9, 2204.62, 35274, 1, 1e12, 10, 157.473, 1.10231],  # toneladas\n",
        "    [1e-9, 1e-6, 0.001, 2.20462e-9, 3.5274e-8, 1e-12, 1, 1e-11, 1.57473e-10, 1.10231e-12],  # microgramos\n",
        "    [100, 1e5, 1e8, 220.462, 3527.4, 0.1, 1e11, 1, 15.7473, 0.110231],  # quintales\n",
        "    [6.35029, 6350.29, 6.35e6, 14, 224, 0.00635029, 6.35e9, 0.0635029, 1, 0.007],  # piedras\n",
        "    [907.185, 9.072e5, 9.072e8, 2000, 32000, 0.907185, 9.072e11, 9.072, 142.857, 1]  # toneladas métricas\n",
        "])\n",
        "\n",
        "def menu_masa():\n",
        "    print(\"Selecciona la unidad de masa actual:\")\n",
        "    for i, unidad in enumerate(unidades_masa):\n",
        "        print(f\"{i+1}. {unidad}\")\n",
        "\n",
        "    unidad_actual = int(input(\"Seleccione la unidad a convertir: \")) - 1\n",
        "\n",
        "    print(\"Selecciona la unidad de masa destino:\")\n",
        "    for i, unidad in enumerate(unidades_masa):\n",
        "        print(f\"{i+1}. {unidad}\")\n",
        "\n",
        "    unidad_destino = int(input(\"Unidad destino (1-10): \")) - 1\n",
        "\n",
        "    cantidad = float(input(\"Introduce la cantidad a convertir: \"))\n",
        "\n",
        "    return unidad_actual, unidad_destino, cantidad\n",
        "\n",
        "def convertir_masa(matriz, unidad_actual, unidad_destino, cantidad):\n",
        "    tasa = matriz[unidad_actual][unidad_destino]\n",
        "    resultado = cantidad * tasa\n",
        "    return resultado\n",
        "\n",
        "unidad_actual, unidad_destino, cantidad = menu_masa()\n",
        "resultado = convertir_masa(valorMasa, unidad_actual, unidad_destino, cantidad)\n",
        "print(f\"{cantidad} {unidades_masa[unidad_actual]} es igual a {resultado:.2f} {unidades_masa[unidad_destino]}\")\n"
      ],
      "metadata": {
        "colab": {
          "base_uri": "https://localhost:8080/"
        },
        "id": "IMKMaiXQhSYG",
        "outputId": "a0c6e38e-d9f1-4eb1-be79-ffdd47161516"
      },
      "execution_count": null,
      "outputs": [
        {
          "output_type": "stream",
          "name": "stdout",
          "text": [
            "Selecciona la unidad de masa actual:\n",
            "1. kilogramos\n",
            "2. gramos\n",
            "3. miligramos\n",
            "4. libras\n",
            "5. onzas\n",
            "6. toneladas\n",
            "7. microgramos\n",
            "8. quintales\n",
            "9. piedras\n",
            "10. toneladas métricas\n",
            "Seleccione la unidad a convertir: 1\n",
            "Selecciona la unidad de masa destino:\n",
            "1. kilogramos\n",
            "2. gramos\n",
            "3. miligramos\n",
            "4. libras\n",
            "5. onzas\n",
            "6. toneladas\n",
            "7. microgramos\n",
            "8. quintales\n",
            "9. piedras\n",
            "10. toneladas métricas\n",
            "Unidad destino (1-10): 4\n",
            "Introduce la cantidad a convertir: 74\n",
            "74.0 kilogramos es igual a 163.14 libras\n"
          ]
        }
      ]
    },
    {
      "cell_type": "markdown",
      "source": [
        "Alamacenamiento"
      ],
      "metadata": {
        "id": "OBPAqbZCk0sB"
      }
    },
    {
      "cell_type": "code",
      "source": [
        "import numpy as np\n",
        "\n",
        "unidades_almacenamiento = [\"bytes\", \"kilobytes\", \"megabytes\", \"gigabytes\", \"terabytes\", \"petabytes\", \"exabytes\", \"zettabytes\", \"yottabytes\", \"bits\"]\n",
        "\n",
        "valorAlmacenamiento = np.array([\n",
        "    [1, 1e-3, 1e-6, 1e-9, 1e-12, 1e-15, 1e-18, 1e-21, 1e-24, 8],  # bytes\n",
        "    [1e3, 1, 1e-3, 1e-6, 1e-9, 1e-12, 1e-15, 1e-18, 1e-21, 8e3],  # kilobytes\n",
        "    [1e6, 1e3, 1, 1e-3, 1e-6, 1e-9, 1e-12, 1e-15, 1e-18, 8e6],  # megabytes\n",
        "    [1e9, 1e6, 1e3, 1, 1e-3, 1e-6, 1e-9, 1e-12, 1e-15, 8e9],  # gigabytes\n",
        "    [1e12, 1e9, 1e6, 1e3, 1, 1e-3, 1e-6, 1e-9, 1e-12, 8e12],  # terabytes\n",
        "    [1e15, 1e12, 1e9, 1e6, 1e3, 1, 1e-3, 1e-6, 1e-9, 8e15],  # petabytes\n",
        "    [1e18, 1e15, 1e12, 1e9, 1e6, 1e3, 1, 1e-3, 1e-6, 8e18],  # exabytes\n",
        "    [1e21, 1e18, 1e15, 1e12, 1e9, 1e6, 1e3, 1, 1e-3, 8e21],  # zettabytes\n",
        "    [1e24, 1e21, 1e18, 1e15, 1e12, 1e9, 1e6, 1e3, 1, 8e24],  # yottabytes\n",
        "    [0.125, 1.25e-4, 1.25e-7, 1.25e-10, 1.25e-13, 1.25e-16, 1.25e-19, 1.25e-22, 1.25e-25, 1]  # bits\n",
        "])\n",
        "\n",
        "def menu_almacenamiento():\n",
        "    print(\"Selecciona la unidad de almacenamiento actual:\")\n",
        "    for i, unidad in enumerate(unidades_almacenamiento):\n",
        "        print(f\"{i+1}. {unidad}\")\n",
        "\n",
        "    unidad_actual = int(input(\"Seleccione la unidad a convertir: \")) - 1\n",
        "\n",
        "    print(\"Selecciona la unidad de almacenamiento destino:\")\n",
        "    for i, unidad in enumerate(unidades_almacenamiento):\n",
        "        print(f\"{i+1}. {unidad}\")\n",
        "\n",
        "    unidad_destino = int(input(\"Unidad destino (1-10): \")) - 1\n",
        "\n",
        "    cantidad = float(input(\"Introduce la cantidad a convertir: \"))\n",
        "\n",
        "    return unidad_actual, unidad_destino, cantidad\n",
        "\n",
        "def convertir_almacenamiento(matriz, unidad_actual, unidad_destino, cantidad):\n",
        "    tasa = matriz[unidad_actual][unidad_destino]\n",
        "    resultado = cantidad * tasa\n",
        "    return resultado\n",
        "\n",
        "unidad_actual, unidad_destino, cantidad = menu_almacenamiento()\n",
        "resultado = convertir_almacenamiento(valorAlmacenamiento, unidad_actual, unidad_destino, cantidad)\n",
        "print(f\"{cantidad} {unidades_almacenamiento[unidad_actual]} es igual a {resultado:.2f} {unidades_almacenamiento[unidad_destino]}\")\n"
      ],
      "metadata": {
        "id": "GP1IfCSVk0X2",
        "colab": {
          "base_uri": "https://localhost:8080/"
        },
        "outputId": "67a78965-6d09-4e73-e97e-b30c3a91e89a"
      },
      "execution_count": null,
      "outputs": [
        {
          "output_type": "stream",
          "name": "stdout",
          "text": [
            "Selecciona la unidad de almacenamiento actual:\n",
            "1. bytes\n",
            "2. kilobytes\n",
            "3. megabytes\n",
            "4. gigabytes\n",
            "5. terabytes\n",
            "6. petabytes\n",
            "7. exabytes\n",
            "8. zettabytes\n",
            "9. yottabytes\n",
            "10. bits\n",
            "Seleccione la unidad a convertir: 7\n",
            "Selecciona la unidad de almacenamiento destino:\n",
            "1. bytes\n",
            "2. kilobytes\n",
            "3. megabytes\n",
            "4. gigabytes\n",
            "5. terabytes\n",
            "6. petabytes\n",
            "7. exabytes\n",
            "8. zettabytes\n",
            "9. yottabytes\n",
            "10. bits\n",
            "Unidad destino (1-10): 4\n",
            "Introduce la cantidad a convertir: 1\n",
            "1.0 exabytes es igual a 1000000000.00 gigabytes\n"
          ]
        }
      ]
    },
    {
      "cell_type": "code",
      "source": [],
      "metadata": {
        "id": "QsJsXKMksMz0"
      },
      "execution_count": null,
      "outputs": []
    },
    {
      "cell_type": "markdown",
      "source": [
        "Volumen"
      ],
      "metadata": {
        "id": "C54-PjWkp679"
      }
    },
    {
      "cell_type": "code",
      "source": [
        "import numpy as np\n",
        "\n",
        "unidades_volumen = [\"litros\", \"mililitros\", \"metros cúbicos\", \"centímetros cúbicos\", \"galones\", \"pintas\", \"cuartos\", \"onzas líquidas\", \"barriles\", \"pies cúbicos\"]\n",
        "\n",
        "valorVolumen = np.array([\n",
        "    [1, 1000, 0.001, 1000, 0.264172, 2.11338, 1.05669, 33.814, 0.00838641, 0.0353147],  # litros\n",
        "    [0.001, 1, 1e-6, 1, 2.64172e-4, 0.00211338, 0.00105669, 0.033814, 8.38641e-6, 3.53147e-5],  # mililitros\n",
        "    [1000, 1e6, 1, 1e6, 264.172, 2113.38, 1056.69, 33814, 8.38641, 35.3147],  # metros cúbicos\n",
        "    [0.001, 1, 1e-6, 1, 2.64172e-4, 0.00211338, 0.00105669, 0.033814, 8.38641e-6, 3.53147e-5],  # centímetros cúbicos\n",
        "    [3.78541, 3785.41, 0.00378541, 3785.41, 1, 8, 4, 128, 0.031746, 0.133681],  # galones\n",
        "    [0.473176, 473.176, 4.73176e-4, 473.176, 0.125, 1, 0.5, 16, 0.00396825, 0.0167101],  # pintas\n",
        "    [0.946353, 946.353, 9.46353e-4, 946.353, 0.25, 2, 1, 32, 0.00793651, 0.0334201],  # cuartos\n",
        "    [0.0295735, 29.5735, 2.95735e-5, 29.5735, 0.0078125, 0.0625, 0.03125, 1, 0.000248, 0.00104438],  # onzas líquidas\n",
        "    [119.24, 119240, 0.11924, 119240, 31.5, 252, 126, 4032, 1, 4.21094],  # barriles\n",
        "    [28.3168, 28316.8, 0.0283168, 28316.8, 7.48052, 59.8442, 29.9221, 957.506, 0.237476, 1]  # pies cúbicos\n",
        "])\n",
        "\n",
        "def menu_volumen():\n",
        "    print(\"Selecciona la unidad de volumen actual:\")\n",
        "    for i, unidad in enumerate(unidades_volumen):\n",
        "        print(f\"{i+1}. {unidad}\")\n",
        "\n",
        "    unidad_actual = int(input(\"Seleccione la unidad a convertir: \")) - 1\n",
        "\n",
        "    print(\"Selecciona la unidad de volumen destino:\")\n",
        "    for i, unidad in enumerate(unidades_volumen):\n",
        "        print(f\"{i+1}. {unidad}\")\n",
        "\n",
        "    unidad_destino = int(input(\"Unidad destino (1-10): \")) - 1\n",
        "\n",
        "    cantidad = float(input(\"Introduce la cantidad a convertir: \"))\n",
        "\n",
        "    return unidad_actual, unidad_destino, cantidad\n",
        "\n",
        "def convertir_volumen(matriz, unidad_actual, unidad_destino, cantidad):\n",
        "    tasa = matriz[unidad_actual][unidad_destino]\n",
        "    resultado = cantidad * tasa\n",
        "    return resultado\n",
        "\n",
        "unidad_actual, unidad_destino, cantidad = menu_volumen()\n",
        "resultado = convertir_volumen(valorVolumen, unidad_actual, unidad_destino, cantidad)\n",
        "print(f\"{cantidad} {unidades_volumen[unidad_actual]} es igual a {resultado:.2f} {unidades_volumen[unidad_destino]}\")\n"
      ],
      "metadata": {
        "id": "YKtUCQndp8RG"
      },
      "execution_count": null,
      "outputs": []
    },
    {
      "cell_type": "markdown",
      "source": [
        "Area"
      ],
      "metadata": {
        "id": "ygoibXhJrUxU"
      }
    },
    {
      "cell_type": "code",
      "source": [
        "import numpy as np\n",
        "\n",
        "unidades_area = [\"metros cuadrados\", \"kilómetros cuadrados\", \"hectáreas\", \"acres\", \"pies cuadrados\", \"yardas cuadradas\", \"millas cuadradas\", \"centímetros cuadrados\", \"milímetros cuadrados\", \"pulgadas cuadradas\", \"manzanas\", \"tareas\"]\n",
        "\n",
        "valorArea = np.array([\n",
        "    [1, 1e-6, 1e-4, 2.47105e-4, 10.7639, 1.19599, 3.861e-7, 1e4, 1e6, 1550, 0.000143, 0.00159],  # metros cuadrados\n",
        "    [1e6, 1, 100, 247.105, 1.076e7, 1.196e6, 0.3861, 1e10, 1e12, 1.55e9, 143, 1590],  # kilómetros cuadrados\n",
        "    [1e4, 0.01, 1, 2.47105, 107639, 11959.9, 3.861e-5, 1e8, 1e10, 1.55e7, 1.43, 15.9],  # hectáreas\n",
        "    [4046.86, 0.00404686, 0.404686, 1, 43560, 4840, 1.5625e-3, 4.047e7, 4.047e9, 6.273e6, 0.5787, 6.29],  # acres\n",
        "    [0.092903, 9.2903e-8, 9.2903e-6, 2.2957e-5, 1, 0.111111, 3.587e-8, 929.03, 92903, 144, 1.33e-5, 0.00159],  # pies cuadrados\n",
        "    [0.836127, 8.3613e-7, 8.3613e-5, 2.0661e-4, 9, 1, 3.2283e-7, 8361.27, 8.361e5, 1296, 1.2e-4, 0.0143],  # yardas cuadradas\n",
        "    [2.59e6, 2.59, 259, 640, 2.788e7, 3.098e6, 1, 2.59e10, 2.59e12, 4.014e9, 370.5, 4000],  # millas cuadradas\n",
        "    [1e-4, 1e-10, 1e-8, 2.471e-8, 0.00107639, 1.19599e-4, 3.861e-11, 1, 100, 0.155, 1.43e-8, 1.59e-6],  # centímetros cuadrados\n",
        "    [1e-6, 1e-12, 1e-10, 2.471e-10, 1.076e-5, 1.19116e-6, 3.861e-13, 0.01, 1, 1.55e-3, 1.43e-10, 1.59e-8],  # milímetros cuadrados\n",
        "    [6.4516e-4, 6.4516e-10, 6.4516e-8, 1.5942e-7, 6.9444e-3, 7.716e-4, 2.491e-10, 6.452, 645.16, 1, 9.29e-8, 1.59e-6],  # pulgadas cuadradas\n",
        "    [7000, 0.007, 0.7, 1.73, 75347, 8361.27, 2.7e-4, 7e8, 7e10, 1.08e8, 1, 108],  # manzanas\n",
        "    [628.8, 6.288e-4, 0.06288, 0.154, 6745, 748.8, 2.42e-5, 6.288e7, 6.288e9, 97400, 0.9259, 1]  # tareas\n",
        "])\n",
        "\n",
        "\n",
        "def menu_area():\n",
        "    print(\"Selecciona la unidad de área actual:\")\n",
        "    for i, unidad in enumerate(unidades_area):\n",
        "        print(f\"{i+1}. {unidad}\")\n",
        "\n",
        "    unidad_actual = int(input(\"Seleccione la unidad a convertir: \")) - 1\n",
        "\n",
        "    print(\"Selecciona la unidad de área destino:\")\n",
        "    for i, unidad in enumerate(unidades_area):\n",
        "        print(f\"{i+1}. {unidad}\")\n",
        "\n",
        "    unidad_destino = int(input(\"Unidad destino (1-12): \")) - 1\n",
        "\n",
        "    cantidad = float(input(\"Introduce la cantidad a convertir: \"))\n",
        "\n",
        "    return unidad_actual, unidad_destino, cantidad\n",
        "\n",
        "def convertir_area(matriz, unidad_actual, unidad_destino, cantidad):\n",
        "    tasa = matriz[unidad_actual][unidad_destino]\n",
        "    resultado = cantidad * tasa\n",
        "    return resultado\n",
        "\n",
        "unidad_actual, unidad_destino, cantidad = menu_area()\n",
        "resultado = convertir_area(valorArea, unidad_actual, unidad_destino, cantidad)\n",
        "print(f\"{cantidad} {unidades_area[unidad_actual]} es igual a {resultado:.2f} {unidades_area[unidad_destino]}\")\n"
      ],
      "metadata": {
        "id": "jANNdpTDrUWK",
        "colab": {
          "base_uri": "https://localhost:8080/"
        },
        "outputId": "706d8519-af1b-495a-9b50-c89779714335"
      },
      "execution_count": null,
      "outputs": [
        {
          "output_type": "stream",
          "name": "stdout",
          "text": [
            "Selecciona la unidad de área actual:\n",
            "1. metros cuadrados\n",
            "2. kilómetros cuadrados\n",
            "3. hectáreas\n",
            "4. acres\n",
            "5. pies cuadrados\n",
            "6. yardas cuadradas\n",
            "7. millas cuadradas\n",
            "8. centímetros cuadrados\n",
            "9. milímetros cuadrados\n",
            "10. pulgadas cuadradas\n",
            "11. manzanas\n",
            "12. tareas\n",
            "Seleccione la unidad a convertir: 11\n",
            "Selecciona la unidad de área destino:\n",
            "1. metros cuadrados\n",
            "2. kilómetros cuadrados\n",
            "3. hectáreas\n",
            "4. acres\n",
            "5. pies cuadrados\n",
            "6. yardas cuadradas\n",
            "7. millas cuadradas\n",
            "8. centímetros cuadrados\n",
            "9. milímetros cuadrados\n",
            "10. pulgadas cuadradas\n",
            "11. manzanas\n",
            "12. tareas\n",
            "Unidad destino (1-12): 12\n",
            "Introduce la cantidad a convertir: 1\n",
            "1.0 manzanas es igual a 108.00 tareas\n"
          ]
        }
      ]
    },
    {
      "cell_type": "markdown",
      "source": [
        "Conversor Personalizado"
      ],
      "metadata": {
        "id": "vAcKmX0W2piL"
      }
    },
    {
      "cell_type": "code",
      "source": [
        "def convertir_cajas_unidades(unidades):\n",
        "    cajas = unidades // 25\n",
        "    sobrante = unidades % 25\n",
        "    return cajas, sobrante\n",
        "\n",
        "def convertir_unidades_cajas(cajas):\n",
        "    return cajas * 25\n",
        "\n",
        "def convertir_sacos_libras(libras):\n",
        "    sacos = libras // 50\n",
        "    sobrante = libras % 50\n",
        "    return sacos, sobrante\n",
        "\n",
        "def convertir_libras_sacos(sacos):\n",
        "    return sacos * 50\n",
        "\n",
        "def convertir_fardos_unidades(unidades):\n",
        "    fardos = unidades // 5\n",
        "    sobrante = unidades % 5\n",
        "    return fardos, sobrante\n",
        "\n",
        "def convertir_unidades_fardos(fardos):\n",
        "    return fardos * 5\n"
      ],
      "metadata": {
        "id": "cOLFN3Gp2oRz"
      },
      "execution_count": null,
      "outputs": []
    },
    {
      "cell_type": "code",
      "source": [
        "\n",
        "def mostrar_menu():\n",
        "    print(\"Selecciona la conversión que deseas realizar:\")\n",
        "    print(\"1. Unidades a Cajas\")\n",
        "    print(\"2. Cajas a Unidades\")\n",
        "    print(\"3. Libras a Sacos\")\n",
        "    print(\"4. Sacos a Libras\")\n",
        "    print(\"5. Unidades a Fardos\")\n",
        "    print(\"6. Fardos a Unidades\")\n",
        "\n",
        "    opcion = int(input(\"Introduce el número de la conversión que deseas realizar: \"))\n",
        "    return opcion\n",
        "\n",
        "def realizar_conversion(opcion):\n",
        "    if opcion == 1:\n",
        "        unidades = int(input(\"Introduce el número de unidades: \"))\n",
        "        cajas, sobrante = convertir_cajas_unidades(unidades)\n",
        "        print(f\"{unidades} unidades son equivalentes a {cajas} cajas y {sobrante} unidades.\")\n",
        "\n",
        "    elif opcion == 2:\n",
        "        cajas = int(input(\"Introduce el número de cajas: \"))\n",
        "        unidades = convertir_unidades_cajas(cajas)\n",
        "        print(f\"{cajas} cajas son equivalentes a {unidades} unidades.\")\n",
        "\n",
        "    elif opcion == 3:\n",
        "        libras = int(input(\"Introduce el número de libras: \"))\n",
        "        sacos, sobrante = convertir_sacos_libras(libras)\n",
        "        print(f\"{libras} libras son equivalentes a {sacos} sacos y {sobrante} libras.\")\n",
        "\n",
        "    elif opcion == 4:\n",
        "        sacos = int(input(\"Introduce el número de sacos: \"))\n",
        "        libras = convertir_libras_sacos(sacos)\n",
        "        print(f\"{sacos} sacos son equivalentes a {libras} libras.\")\n",
        "\n",
        "    elif opcion == 5:\n",
        "        unidades = int(input(\"Introduce el número de unidades: \"))\n",
        "        fardos, sobrante = convertir_fardos_unidades(unidades)\n",
        "        print(f\"{unidades} unidades son equivalentes a {fardos} fardos y {sobrante} unidades.\")\n",
        "\n",
        "    elif opcion == 6:\n",
        "        fardos = int(input(\"Introduce el número de fardos: \"))\n",
        "        unidades = convertir_unidades_fardos(fardos)\n",
        "        print(f\"{fardos} fardos son equivalentes a {unidades} unidades.\")\n",
        "\n",
        "    else:\n",
        "        print(\"Opción no válida.\")\n",
        "opcion = mostrar_menu()\n",
        "realizar_conversion(opcion)\n",
        "\n",
        "\n"
      ],
      "metadata": {
        "colab": {
          "base_uri": "https://localhost:8080/"
        },
        "id": "HFCbHdRG2xGO",
        "outputId": "843f4603-0925-49ea-99f8-fa1a60381371"
      },
      "execution_count": null,
      "outputs": [
        {
          "output_type": "stream",
          "name": "stdout",
          "text": [
            "Selecciona la conversión que deseas realizar:\n",
            "1. Unidades a Cajas\n",
            "2. Cajas a Unidades\n",
            "3. Libras a Sacos\n",
            "4. Sacos a Libras\n",
            "5. Unidades a Fardos\n",
            "6. Fardos a Unidades\n",
            "Introduce el número de la conversión que deseas realizar: 1\n",
            "Introduce el número de unidades: 45\n",
            "45 unidades son equivalentes a 1 cajas y 20 unidades.\n"
          ]
        }
      ]
    },
    {
      "cell_type": "markdown",
      "source": [
        "sacar la varianza"
      ],
      "metadata": {
        "id": "j7g-Vu8cBKGC"
      }
    },
    {
      "cell_type": "code",
      "source": [
        "from math import sqrt\n",
        "\n",
        "class estadistica:\n",
        "    def media(self, serie):\n",
        "        suma = 0\n",
        "        for num in serie:\n",
        "            suma += num\n",
        "        return suma / len(serie)\n",
        "\n",
        "    def tipica(self, serie):\n",
        "        media = self.media(serie)\n",
        "        suma = 0\n",
        "        for num in serie:\n",
        "            suma += (num - media) ** 2\n",
        "        return sqrt(suma / len(serie))\n",
        "\n",
        "    def varianza(self, serie):\n",
        "        media = self.media(serie)\n",
        "        suma = 0\n",
        "        for num in serie:\n",
        "            suma += (num - media) ** 2\n",
        "        return suma / len(serie)\n",
        "\n",
        "n = int(input(\"Cuantos numeros va a ingresar: \"))\n",
        "serie = []\n",
        "for num in range(1, n + 1):\n",
        "    serie.append(int(input(\"Num: \")))\n",
        "\n",
        "objEstadistica = estadistica()\n",
        "print(\"La media es: \", objEstadistica.media(serie))\n",
        "print(\"La desviacion tipica es: \", round(objEstadistica.tipica(serie), 3))\n",
        "print(\"La varianza es: \", round(objEstadistica.varianza(serie), 3))\n"
      ],
      "metadata": {
        "colab": {
          "base_uri": "https://localhost:8080/"
        },
        "id": "NZPx_jj9BL_K",
        "outputId": "d0e6267f-9423-47ce-ec82-fab1a88a4483"
      },
      "execution_count": null,
      "outputs": [
        {
          "output_type": "stream",
          "name": "stdout",
          "text": [
            "Cuantos numeros va a ingresar: 5\n",
            "Num: 1\n",
            "Num: 2\n",
            "Num: 3\n",
            "Num: 4\n",
            "Num: 5\n",
            "La media es:  3.0\n",
            "La desviacion tipica es:  1.414\n",
            "La varianza es:  2.0\n"
          ]
        }
      ]
    },
    {
      "cell_type": "code",
      "source": [
        "Palindromo= input(\"ingrese la palabra : \")\n",
        "if Palindromo == Palindromo[::-1]:\n",
        " print(\"Es palindromo\")\n",
        "else:\n",
        " print(\"No es palindromo\")\n"
      ],
      "metadata": {
        "colab": {
          "base_uri": "https://localhost:8080/"
        },
        "id": "AdbL1aQfP11o",
        "outputId": "55e69447-2d86-4432-bfd0-a634a0fe6a1c"
      },
      "execution_count": null,
      "outputs": [
        {
          "output_type": "stream",
          "name": "stdout",
          "text": [
            "ingrese la palabra : reconocer\n",
            "Es palindromo\n"
          ]
        }
      ]
    }
  ]
}