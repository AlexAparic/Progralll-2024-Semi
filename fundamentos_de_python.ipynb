{
  "nbformat": 4,
  "nbformat_minor": 0,
  "metadata": {
    "colab": {
      "provenance": [],
      "authorship_tag": "ABX9TyMTtFcZFhUIo5oVaUbjP+p3",
      "include_colab_link": true
    },
    "kernelspec": {
      "name": "python3",
      "display_name": "Python 3"
    },
    "language_info": {
      "name": "python"
    }
  },
  "cells": [
    {
      "cell_type": "markdown",
      "metadata": {
        "id": "view-in-github",
        "colab_type": "text"
      },
      "source": [
        "<a href=\"https://colab.research.google.com/github/AlexAparic/Progralll-2024-Semi/blob/main/fundamentos_de_python.ipynb\" target=\"_parent\"><img src=\"https://colab.research.google.com/assets/colab-badge.svg\" alt=\"Open In Colab\"/></a>"
      ]
    },
    {
      "cell_type": "code",
      "execution_count": 4,
      "metadata": {
        "colab": {
          "base_uri": "https://localhost:8080/"
        },
        "id": "lnCzUdfP4YIh",
        "outputId": "992c200b-59ef-4ac9-954b-c4fae53dc044"
      },
      "outputs": [
        {
          "output_type": "stream",
          "name": "stdout",
          "text": [
            "Hola mundo\n",
            "Hola William Aparicio ,inicial:  W a\n"
          ]
        }
      ],
      "source": [
        "print (\"Hola mundo\")\n",
        "nombre = \"William Aparicio\"\n",
        "\n",
        "print (\"Hola\", nombre, \",inicial: \", nombre[0], nombre[5])"
      ]
    },
    {
      "cell_type": "markdown",
      "source": [
        "Ejercicio"
      ],
      "metadata": {
        "id": "9igD7PjV9cIo"
      }
    },
    {
      "cell_type": "code",
      "source": [
        "num1= 5\n",
        "num2= 9.5\n",
        "reps= num1 + num2 * num1\n",
        "print(\"la suma es\",reps)"
      ],
      "metadata": {
        "colab": {
          "base_uri": "https://localhost:8080/"
        },
        "id": "oxaU0eoY9a3C",
        "outputId": "95d84ecf-45f4-4026-e90b-0d2e090bafbc"
      },
      "execution_count": 5,
      "outputs": [
        {
          "output_type": "stream",
          "name": "stdout",
          "text": [
            "la suma es 52.5\n"
          ]
        }
      ]
    },
    {
      "cell_type": "markdown",
      "source": [
        "EJERCICIO crear un programa en python que sume dos numeros introducidos por el *usuario*"
      ],
      "metadata": {
        "id": "anbZH7nU_O6M"
      }
    },
    {
      "cell_type": "code",
      "source": [
        "print (\"num1\")\n",
        "num1 = float(input())\n",
        "\n",
        "print (\"num2\")\n",
        "num2 = float(input())\n",
        "\n",
        "reps= num1 + num2\n",
        "print(\"la suma es\",reps)"
      ],
      "metadata": {
        "colab": {
          "base_uri": "https://localhost:8080/"
        },
        "collapsed": true,
        "id": "hXhDrYiZ_VAd",
        "outputId": "8eb5a5d8-23f4-4475-8157-1de03d64a2b7"
      },
      "execution_count": 6,
      "outputs": [
        {
          "output_type": "stream",
          "name": "stdout",
          "text": [
            "num1\n",
            "5.9\n",
            "num2\n",
            "4\n",
            "la suma es 9.9\n"
          ]
        }
      ]
    },
    {
      "cell_type": "code",
      "source": [
        "#Tipos de datos\n",
        "\n",
        "num1= 5\n",
        "num2 = 9.8\n",
        "nombre = \"William\"\n",
        "print (nombre[0:7], nombre[:7], nombre[-1], nombre[5:len(nombre)])\n",
        "\n",
        "estado = True\n",
        "print (estado)\n",
        "\n",
        "print(type(estado), type(num1), type(num2), type(nombre))"
      ],
      "metadata": {
        "colab": {
          "base_uri": "https://localhost:8080/"
        },
        "id": "32gqsBINCKp4",
        "outputId": "c3316b6b-2929-42bc-8ec9-1798af2d1644"
      },
      "execution_count": 17,
      "outputs": [
        {
          "output_type": "stream",
          "name": "stdout",
          "text": [
            "William William m am\n",
            "True\n",
            "<class 'bool'> <class 'int'> <class 'float'> <class 'str'>\n"
          ]
        }
      ]
    },
    {
      "cell_type": "markdown",
      "source": [
        "Ejercicio cree un programa que determine si un numero es par o impar\n"
      ],
      "metadata": {
        "id": "JeFNo3ubEoAe"
      }
    },
    {
      "cell_type": "code",
      "source": [
        "num = int(input(\"Ingrese un numero: \"))\n",
        "if num % 2 == 0:\n",
        "  print(\"El numero es par\")\n",
        "else:\n",
        "   print(\"El numero es impar\")"
      ],
      "metadata": {
        "colab": {
          "base_uri": "https://localhost:8080/"
        },
        "id": "JBQMtAccE3yE",
        "outputId": "1bf0d891-b012-4a41-88e6-50114417322b"
      },
      "execution_count": 20,
      "outputs": [
        {
          "output_type": "stream",
          "name": "stdout",
          "text": [
            "Ingrese un numero: 3\n",
            "El numero es impar\n"
          ]
        }
      ]
    }
  ]
}